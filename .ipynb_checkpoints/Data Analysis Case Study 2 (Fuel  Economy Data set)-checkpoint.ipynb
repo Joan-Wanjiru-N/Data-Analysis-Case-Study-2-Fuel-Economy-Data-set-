{
 "cells": [
  {
   "cell_type": "markdown",
   "id": "af2a50c1",
   "metadata": {},
   "source": [
    "# Anlaysis on Fuel Economy Data provided by EPA\n",
    "The "
   ]
  }
 ],
 "metadata": {
  "kernelspec": {
   "display_name": "Python 3 (ipykernel)",
   "language": "python",
   "name": "python3"
  },
  "language_info": {
   "codemirror_mode": {
    "name": "ipython",
    "version": 3
   },
   "file_extension": ".py",
   "mimetype": "text/x-python",
   "name": "python",
   "nbconvert_exporter": "python",
   "pygments_lexer": "ipython3",
   "version": "3.9.7"
  }
 },
 "nbformat": 4,
 "nbformat_minor": 5
}
